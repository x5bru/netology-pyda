{
 "cells": [
  {
   "cell_type": "markdown",
   "metadata": {},
   "source": [
    "# Задание 1\n",
    "Напишите функцию, которая возвращает сумму элементов на диагонали. Т. е. 13+32+23+35."
   ]
  },
  {
   "cell_type": "code",
   "execution_count": 1,
   "metadata": {},
   "outputs": [
    {
     "data": {
      "text/plain": [
       "103"
      ]
     },
     "execution_count": 1,
     "metadata": {},
     "output_type": "execute_result"
    }
   ],
   "source": [
    "data = [\n",
    "    [13, 25, 23, 34],\n",
    "    [45, 32, 44, 47],\n",
    "    [12, 33, 23, 95],\n",
    "    [13, 53, 34, 35],\n",
    "]\n",
    "\n",
    "def diagonal(lst):\n",
    "    return sum([lst[i][i] for i in range(0,len(lst))])\n",
    "\n",
    "diagonal(data)"
   ]
  },
  {
   "cell_type": "markdown",
   "metadata": {},
   "source": [
    "# Задание 2\n",
    "Дан список чисел, часть из которых имеют строковый тип или содержат буквы. Напишите функцию, которая возвращает сумму квадратов элементов, которые могут быть числами."
   ]
  },
  {
   "cell_type": "code",
   "execution_count": 2,
   "metadata": {},
   "outputs": [
    {
     "data": {
      "text/plain": [
       "430.0"
      ]
     },
     "execution_count": 2,
     "metadata": {},
     "output_type": "execute_result"
    }
   ],
   "source": [
    "data = [1, '5', 'abc', 20, '2']\n",
    "\n",
    "x = sum([float(i) * float(i) for i in data if str(i).isdigit()])\n",
    "x"
   ]
  },
  {
   "cell_type": "markdown",
   "metadata": {},
   "source": [
    "# Задание 3\n",
    "Напишите функцию, возвращающую сумму первых n чисел Фибоначчи.\n",
    "\n",
    "Числа Фибоначчи – это ряд чисел, в котором каждое следующее число равно сумме двух предыдущих: 1, 1, 2, 3, 5, 8, 13, ... . Иногда ряд начинают с нуля: 0, 1, 1, 2, 3, 5, ... . В данном случае мы будем придерживаться первого варианта."
   ]
  },
  {
   "cell_type": "code",
   "execution_count": 4,
   "metadata": {},
   "outputs": [
    {
     "data": {
      "text/plain": [
       "143"
      ]
     },
     "execution_count": 4,
     "metadata": {},
     "output_type": "execute_result"
    }
   ],
   "source": [
    "n = 10\n",
    "\n",
    "def fib(num, pp_sum = 0, p_sum = 1):\n",
    "    c_sum = p_sum + pp_sum\n",
    "    \n",
    "    if num > 1:\n",
    "        return fib(num - 1, p_sum, c_sum)\n",
    "    \n",
    "    return c_sum\n",
    "    \n",
    "x = [fib(i) for i in range(0,n)]\n",
    "sum(x)"
   ]
  },
  {
   "cell_type": "markdown",
   "metadata": {},
   "source": [
    "# Задание 4\n",
    "Дан набор данных об обучении студентов на курсе программирования, который содержит: 1) имя 2) фамилию 3) пол 4) наличие у студента опыта в программировании 5) набор оценок за домашние работы 6) оценку за итоговую работу.\n",
    "\n",
    "Напишите программу, которая будет принимать команду от пользователя и возвращать соотвествующий результат. Список команд: 1 - вывести на экран среднюю оценку за все ДЗ по группе и вывести на экран среднюю оценку за экзамен по группе; 2 - вывести среднюю оценку за ДЗ и за экзамен по группе в разрезе пола студентов 3 - вывести среднюю оценку за ДЗ и за экзамен в разрезе наличия опыта в программировании у студентов.\n",
    "\n",
    "Прогрмма должна быть полностью декомпозирована на функции (кроме объявления функций и вызова итоговой функции в реализации ничего быть не должно)."
   ]
  },
  {
   "cell_type": "code",
   "execution_count": 3,
   "metadata": {},
   "outputs": [
    {
     "name": "stderr",
     "output_type": "stream",
     "text": [
      "Exception in Tkinter callback\n",
      "Traceback (most recent call last):\n",
      "  File \"C:\\ProgramData\\Anaconda3\\lib\\tkinter\\__init__.py\", line 1705, in __call__\n",
      "    return self.func(*args)\n",
      "  File \"<ipython-input-3-73478429a1f1>\", line 68, in click3\n",
      "    title,geometry\n",
      "NameError: name 'title' is not defined\n",
      "Exception in Tkinter callback\n",
      "Traceback (most recent call last):\n",
      "  File \"C:\\ProgramData\\Anaconda3\\lib\\tkinter\\__init__.py\", line 1705, in __call__\n",
      "    return self.func(*args)\n",
      "  File \"<ipython-input-3-73478429a1f1>\", line 68, in click3\n",
      "    title,geometry\n",
      "NameError: name 'title' is not defined\n",
      "Exception in Tkinter callback\n",
      "Traceback (most recent call last):\n",
      "  File \"C:\\ProgramData\\Anaconda3\\lib\\tkinter\\__init__.py\", line 1705, in __call__\n",
      "    return self.func(*args)\n",
      "  File \"<ipython-input-3-73478429a1f1>\", line 68, in click3\n",
      "    title,geometry\n",
      "NameError: name 'title' is not defined\n"
     ]
    }
   ],
   "source": [
    "students_list = [\n",
    "    {'name': 'Василий', 'surname': 'Теркин', 'sex': 'м', 'program_exp': True, 'grade': [8, 8, 9, 10, 9], 'exam': 9},\n",
    "    {'name': 'Мария', 'surname': 'Павлова', 'sex': 'ж', 'program_exp': True, 'grade': [7, 8, 9, 7, 9], 'exam': 8},\n",
    "    {'name': 'Ирина', 'surname': 'Андреева', 'sex': 'ж', 'program_exp': True, 'grade': [10, 9, 8, 10, 10], 'exam': 10},\n",
    "    {'name': 'Татьяна', 'surname': 'Сидорова', 'sex': 'ж', 'program_exp': True, 'grade': [7, 8, 8, 9, 8], 'exam': 8},\n",
    "    {'name': 'Иван', 'surname': 'Васильев', 'sex': 'ж', 'program_exp': True, 'grade': [9, 8, 9, 6, 9], 'exam': 10},\n",
    "    {'name': 'Роман', 'surname': 'Золотарев', 'sex': 'ж', 'program_exp': False, 'grade': [8, 9, 9, 6, 9], 'exam': 10}\n",
    "]\n",
    "    \n",
    "from tkinter import Tk\n",
    "\n",
    "def avg_func(lst, key = False, val = False):\n",
    "    if not lst:\n",
    "        return\n",
    "    \n",
    "    avg = {\n",
    "        'grade_list' : [[],[]],\n",
    "        'exam_list' : [[],[]],\n",
    "    }\n",
    "    \n",
    "    for st in students_list:\n",
    "        if (not key and not val) or st.get(key) == val:\n",
    "            if st.get('grade'):\n",
    "                avg['grade_list'][0].append(sum(st['grade']) / len(st['grade']))\n",
    "\n",
    "            avg['exam_list'][0].append(st.get('exam',0))\n",
    "        else:\n",
    "            if st.get('grade'):\n",
    "                avg['grade_list'][1].append(sum(st['grade']) / len(st['grade']))\n",
    "\n",
    "            avg['exam_list'][1].append(st.get('exam',0))\n",
    "    return avg\n",
    "            \n",
    "\n",
    "def click1():\n",
    "    avg = avg_func(students_list)\n",
    "    \n",
    "    avg_grade = round(sum(avg['grade_list'][0]) / len(avg['grade_list'][0]),2)\n",
    "    avg_exam = round(sum(avg['exam_list'][0]) / len(avg['exam_list'][0]),2)\n",
    "    \n",
    "    result1.configure(text = 'Оценка за ДЗ - ' + str(avg_grade) + '   Оценка за экзамен - ' + str(avg_exam))\n",
    "    result2.configure(text = '')\n",
    "    \n",
    "def click2():\n",
    "    avg = avg_func(students_list, 'sex', 'м')\n",
    "            \n",
    "    avg_grade_male = round(sum(avg['grade_list'][0]) / len(avg['grade_list'][0]),2)\n",
    "    avg_exam_male = round(sum(avg['exam_list'][0]) / len(avg['exam_list'][0]),2)\n",
    "    \n",
    "    avg_grade_female = round(sum(avg['grade_list'][1]) / len(avg['grade_list'][1]),2)\n",
    "    avg_exam_female = round(sum(avg['exam_list'][1]) / len(avg['exam_list'][1]),2)\n",
    "        \n",
    "    result1.configure(text = 'По мужчинам: Оценка за ДЗ - ' + str(avg_grade_male) + '   Оценка за экзамен - ' + str(avg_exam_male))\n",
    "    result2.configure(text = 'По женщинам: Оценка за ДЗ - ' + str(avg_grade_female) + '   Оценка за экзамен - ' + str(avg_exam_female))\n",
    "\n",
    "def click3():\n",
    "    avg = avg_func(students_list, 'program_exp', True)\n",
    "            \n",
    "    avg_grade_programmer = round(sum(avg['grade_list'][0]) / len(avg['grade_list'][0]),2)\n",
    "    avg_exam_programmer = round(sum(avg['exam_list'][0]) / len(avg['exam_list'][0]),2)\n",
    "    \n",
    "    avg_grade = round(sum(avg['grade_list'][1]) / len(avg['grade_list'][1]),2)\n",
    "    avg_exam = round(sum(avg['exam_list'][1]) / len(avg['exam_list'][1]),2)\n",
    "        \n",
    "    result1.configure(text = 'С опытом программиста: Оценка за ДЗ - ' + str(avg_grade_programmer) + '   Оценка за экзамен - ' + str(avg_grade_programmer))\n",
    "    result2.configure(text = 'Без опыта программиста: Оценка за ДЗ - ' + str(avg_grade) + '   Оценка за экзамен - ' + str(avg_exam))\n",
    "    \n",
    "    title,geometry\n",
    "window = Tk()  \n",
    "window.title(\"Средние значения оценок\")  \n",
    "window.geometry('600x250')\n",
    "\n",
    "lbl = Label(window, text=\"\") \n",
    "lbl.grid(column=0, row=3)\n",
    "\n",
    "btn1 = Button(window, text=\"Средняя оценка за ДЗ и за экзамен по группе\", command=click1)\n",
    "btn1.grid(column=0, row=0)\n",
    "\n",
    "btn2 = Button(window, text=\"Средняя оценка за ДЗ и за экзамен по группе в разрезе пола студентов\", command=click2)\n",
    "btn2.grid(column=0, row=1)\n",
    "\n",
    "btn2 = Button(window, text=\"Средняя оценка за ДЗ и за экзамен по группе в разрезе наличия опыта в программировании\", command=click3)\n",
    "btn2.grid(column=0, row=2)\n",
    "\n",
    "result1 = Label(window, text=\"\")\n",
    "result1.grid(column=0, row=3)\n",
    "\n",
    "result2 = Label(window, text=\"\")\n",
    "result2.grid(column=0, row=4)\n",
    "\n",
    "window.mainloop()\n"
   ]
  }
 ],
 "metadata": {
  "kernelspec": {
   "display_name": "Python 3",
   "language": "python",
   "name": "python3"
  },
  "language_info": {
   "codemirror_mode": {
    "name": "ipython",
    "version": 3
   },
   "file_extension": ".py",
   "mimetype": "text/x-python",
   "name": "python",
   "nbconvert_exporter": "python",
   "pygments_lexer": "ipython3",
   "version": "3.7.3"
  }
 },
 "nbformat": 4,
 "nbformat_minor": 2
}
