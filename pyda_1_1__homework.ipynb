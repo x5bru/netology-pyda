{
 "cells": [
  {
   "cell_type": "markdown",
   "metadata": {},
   "source": [
    "### Задание 1"
   ]
  },
  {
   "cell_type": "code",
   "execution_count": null,
   "metadata": {},
   "outputs": [],
   "source": [
    "long_phrase = 'Насколько проще было бы писать программы, если бы не заказчики'\n",
    "short_phrase = '640Кб должно хватить для любых задач. Билл Гейтс (по легенде)'\n",
    "\n",
    "if len(long_phrase) > len(short_phrase):\n",
    "    print(True)\n",
    "else:\n",
    "    print(False)"
   ]
  },
  {
   "cell_type": "markdown",
   "metadata": {},
   "source": [
    "### Задание 2"
   ]
  },
  {
   "cell_type": "code",
   "execution_count": 58,
   "metadata": {},
   "outputs": [
    {
     "name": "stdout",
     "output_type": "stream",
     "text": [
      "Введите объем файла в байтай 224059719.68\n",
      "Объем файла равен 213.68 Mb\n"
     ]
    }
   ],
   "source": [
    "size_byte = input('Введите объем файла в байтай ')#224059719.68\n",
    "\n",
    "if size_byte:\n",
    "    print('Объем файла равен', round(float(size_byte) / 1048576, 5),'Mb')"
   ]
  },
  {
   "cell_type": "markdown",
   "metadata": {},
   "source": [
    "### Задание 3"
   ]
  },
  {
   "cell_type": "code",
   "execution_count": 31,
   "metadata": {},
   "outputs": [
    {
     "name": "stdout",
     "output_type": "stream",
     "text": [
      "Введите месяц февраль\n",
      "Введите число 15\n",
      "Ваш знак зодиака Водолей\n",
      "Конец :)\n"
     ]
    }
   ],
   "source": [
    "month = input('Введите месяц ')\n",
    "day = input('Введите число ')\n",
    "\n",
    "ob = {\n",
    "    'январь': '1',\n",
    "    'февраль': '2',\n",
    "    'март': '3',\n",
    "    'апрель': '4',\n",
    "    'май': '5',\n",
    "    'июнь': '6',\n",
    "    'июль': '7',\n",
    "    'август': '8',\n",
    "    'сентябрь': '9',\n",
    "    'октябрь': '10',\n",
    "    'ноябрь': '11',\n",
    "    'декабрь': '12'\n",
    "}\n",
    "\n",
    "if month in ob:\n",
    "    month = ob[month]\n",
    "\n",
    "if len(day) < 2:\n",
    "    day = '0' + day\n",
    "\n",
    "if month.isdigit():\n",
    "    \n",
    "    date = int(month + day)\n",
    "    \n",
    "    if 121 < date < 218:\n",
    "        print('Ваш знак зодиака Водолей')\n",
    "    elif 219 < date < 320:\n",
    "        print('Ваш знак зодиака Рыбы')\n",
    "    elif 321 < date < 419:\n",
    "        print('Ваш знак зодиака Овен')\n",
    "    elif 420 <= date <= 520:\n",
    "        print('Ваш знак зодиака Телец')\n",
    "    elif 521 < date < 621:\n",
    "        print('Ваш знак зодиака Близнецы')\n",
    "    elif 622 < date < 722:\n",
    "        print('Ваш знак зодиака Рак')\n",
    "    elif 723 < date < 822:\n",
    "        print('Ваш знак зодиака Лев')\n",
    "    elif 823 < date < 922:\n",
    "        print('Ваш знак зодиака Дева')\n",
    "    elif 923 < date < 1023:\n",
    "        print('Ваш знак зодиака Весы')\n",
    "    elif 1024 < date < 1122:\n",
    "        print('Ваш знак зодиака Скорпион')\n",
    "    elif 1123 < date < 1221:\n",
    "        print('Ваш знак зодиака Стрелец')\n",
    "    else:\n",
    "        print('Ваш знак зодиака Козерог')\n",
    "    \n",
    "print('Конец :)')"
   ]
  },
  {
   "cell_type": "markdown",
   "metadata": {},
   "source": [
    "### Задание 4"
   ]
  },
  {
   "cell_type": "code",
   "execution_count": null,
   "metadata": {},
   "outputs": [],
   "source": [
    "salary = input('Введите заработную плату в месяц')\n",
    "mortgage_cost = input('Введите сколько процентов уходит на ипотеку')\n",
    "life_cost =  input('Введите сколько процентов уходит на жизнь')\n",
    "bonus_count = input('Введите количество премий за год')\n",
    "\n",
    "if salary.isdigit() and mortgage_cost.isdigit() and life_cost.isdigit() and bonus_count.isdigit():\n",
    "    income_salary = int(salary) * 12\n",
    "    income_bonus = int(bonus_count) * int(salary)\n",
    "    \n",
    "    mortgage = income_salary * int(mortgage_cost) // 100\n",
    "    accumulation = income_salary - mortgage - income_salary * int(life_cost) // 100 + income_bonus // 2\n",
    "    \n",
    "    print('На ипотеку было потрачено: ',mortgage, ' рублей')\n",
    "    print('Было накоплено: ', accumulation, ' рублей')\n"
   ]
  }
 ],
 "metadata": {
  "kernelspec": {
   "display_name": "Python 3",
   "language": "python",
   "name": "python3"
  },
  "language_info": {
   "codemirror_mode": {
    "name": "ipython",
    "version": 3
   },
   "file_extension": ".py",
   "mimetype": "text/x-python",
   "name": "python",
   "nbconvert_exporter": "python",
   "pygments_lexer": "ipython3",
   "version": "3.7.3"
  }
 },
 "nbformat": 4,
 "nbformat_minor": 2
}
