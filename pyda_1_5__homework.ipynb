{
 "cells": [
  {
   "cell_type": "markdown",
   "metadata": {},
   "source": [
    "# Задание 1\n",
    "Создайте numpy array с элементами от числа N до 0 (например, для N = 10 это будет array([9, 8, 7, 6, 5, 4, 3, 2, 1, 0]))."
   ]
  },
  {
   "cell_type": "code",
   "execution_count": 79,
   "metadata": {},
   "outputs": [
    {
     "data": {
      "text/plain": [
       "array([9, 8, 7, 6, 5, 4, 3, 2, 1, 0])"
      ]
     },
     "execution_count": 79,
     "metadata": {},
     "output_type": "execute_result"
    }
   ],
   "source": [
    "arg = lambda x: -x // abs(x)\n",
    "\n",
    "import numpy as np\n",
    "\n",
    "N = 10\n",
    "\n",
    "arr = np.arange(N + arg(N), arg(N), arg(N))\n",
    "arr"
   ]
  },
  {
   "cell_type": "markdown",
   "metadata": {},
   "source": [
    "# Задание 2\n",
    "Создайте диагональную матрицу с элементами от N до 0. Посчитайте сумму ее значений на диагонали."
   ]
  },
  {
   "cell_type": "code",
   "execution_count": 80,
   "metadata": {},
   "outputs": [
    {
     "data": {
      "text/plain": [
       "190"
      ]
     },
     "execution_count": 80,
     "metadata": {},
     "output_type": "execute_result"
    }
   ],
   "source": [
    "N = 20\n",
    "\n",
    "arr = np.diag(np.arange(N + arg(N), arg(N), arg(N)), k=0)\n",
    "sum(sum(arr))"
   ]
  },
  {
   "cell_type": "markdown",
   "metadata": {},
   "source": [
    "# Задание 3\n",
    "Решите систему уравнений:\n",
    "\\begin{equation*}\n",
    "\\LARGE\n",
    "4*x + 2*y + z = 4 \\\\\n",
    "\\LARGE\n",
    "x + 3*y = 12 \\\\\n",
    "\\LARGE\n",
    "5*y + 4*z = -3\n",
    "\\end{equation*}"
   ]
  },
  {
   "cell_type": "code",
   "execution_count": 81,
   "metadata": {},
   "outputs": [
    {
     "data": {
      "text/plain": [
       "array([ 0.46666667,  3.84444444, -5.55555556])"
      ]
     },
     "execution_count": 81,
     "metadata": {},
     "output_type": "execute_result"
    }
   ],
   "source": [
    "from numpy import linalg\n",
    "\n",
    "a = np.array( [ [4, 2, 1], [1, 3, 0], [0, 5, 4] ] )\n",
    "b = np.array( [4, 12, -3] )\n",
    "\n",
    "linalg.solve(a, b)\n",
    "# np.allclose( np.dot(a, linalg.solve(a, b)), b )"
   ]
  }
 ],
 "metadata": {
  "kernelspec": {
   "display_name": "Python 3",
   "language": "python",
   "name": "python3"
  },
  "language_info": {
   "codemirror_mode": {
    "name": "ipython",
    "version": 3
   },
   "file_extension": ".py",
   "mimetype": "text/x-python",
   "name": "python",
   "nbconvert_exporter": "python",
   "pygments_lexer": "ipython3",
   "version": "3.7.3"
  }
 },
 "nbformat": 4,
 "nbformat_minor": 2
}
