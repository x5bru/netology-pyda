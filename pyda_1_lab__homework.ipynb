{
 "cells": [
  {
   "cell_type": "markdown",
   "metadata": {},
   "source": [
    "# Задача 1\n",
    "Дана строка"
   ]
  },
  {
   "cell_type": "code",
   "execution_count": 91,
   "metadata": {},
   "outputs": [],
   "source": [
    "string_01 = \"Mama, just killed a man, put a gun against his head, \\\n",
    "pulled my trigger, now he's dead. Mama, life had just begun, but \\\n",
    "now I've gone and thrown it all away. Mama, ooh (any way the wind \\\n",
    "blows), didn't mean to make you cry. If I'm not back again this \\\n",
    "time tomorrow carry on, carry on as if nothing really matters.\""
   ]
  },
  {
   "cell_type": "markdown",
   "metadata": {},
   "source": [
    "* 1.Посчитайте, сколько в строке символов (исключая пробелы).\n",
    "* 2.Посчитайте, сколько в строке слов.\n",
    "* 3.Напишите функцию, которая будет принимать в качестве аргумента букву и выводить все слова из строки, заканчивающиеся на эту букву (например, “s”).\n",
    "* 4.Не обязательно: Напишите функцию, которая будет принимать в качестве аргумента букву и выводить все слова из строки, начинающиеся на эту букву\n",
    "(например, “m”)."
   ]
  },
  {
   "cell_type": "code",
   "execution_count": 92,
   "metadata": {},
   "outputs": [
    {
     "data": {
      "text/plain": [
       "250"
      ]
     },
     "execution_count": 92,
     "metadata": {},
     "output_type": "execute_result"
    }
   ],
   "source": [
    "len(string_01.replace(' ', ''))"
   ]
  },
  {
   "cell_type": "code",
   "execution_count": 93,
   "metadata": {},
   "outputs": [
    {
     "data": {
      "text/plain": [
       "61"
      ]
     },
     "execution_count": 93,
     "metadata": {},
     "output_type": "execute_result"
    }
   ],
   "source": [
    "len(string_01.split())"
   ]
  },
  {
   "cell_type": "code",
   "execution_count": 97,
   "metadata": {},
   "outputs": [],
   "source": [
    "def get_words(sym, end_simbol = True):\n",
    "    result = []\n",
    "    str_ = string_01\n",
    "    \n",
    "    for char in [',','.',')','(']:\n",
    "        str_ = str_.replace(char,'')\n",
    "    \n",
    "    if end_simbol:\n",
    "        return [word for word in str_.split() if word[-1].lower() == sym.lower()]\n",
    "    \n",
    "    return [word for word in str_.split() if word[0].lower() == sym.lower()]"
   ]
  },
  {
   "cell_type": "code",
   "execution_count": 98,
   "metadata": {},
   "outputs": [
    {
     "data": {
      "text/plain": [
       "['just', 'put', 'against', 'just', 'but', 'it', \"didn't\", 'not']"
      ]
     },
     "execution_count": 98,
     "metadata": {},
     "output_type": "execute_result"
    }
   ],
   "source": [
    "get_words('t')"
   ]
  },
  {
   "cell_type": "code",
   "execution_count": 100,
   "metadata": {},
   "outputs": [
    {
     "data": {
      "text/plain": [
       "['Mama', 'man', 'my', 'Mama', 'Mama', 'mean', 'make', 'matters']"
      ]
     },
     "execution_count": 100,
     "metadata": {},
     "output_type": "execute_result"
    }
   ],
   "source": [
    "get_words('m', False)"
   ]
  },
  {
   "cell_type": "markdown",
   "metadata": {},
   "source": [
    "# Задача 2\n",
    "Напишите код, который будет генерировать случайную последовательность из 6\n",
    "цифр, одна из которых должна быть 3. Позиция цифры 3 должна\n",
    "определяться случайным образом. Результат должен быть строкой. Например:\n",
    "\"456309\" или \"330127\"."
   ]
  },
  {
   "cell_type": "code",
   "execution_count": 101,
   "metadata": {},
   "outputs": [],
   "source": [
    "import random"
   ]
  },
  {
   "cell_type": "code",
   "execution_count": 102,
   "metadata": {},
   "outputs": [],
   "source": [
    "def generate():\n",
    "    num = int(random.random() * 100000)\n",
    "    position = num % 6\n",
    "    str_ = str(num).zfill(5)\n",
    "    \n",
    "    i = 0\n",
    "    result = ''\n",
    "\n",
    "    while i < 6:\n",
    "        if i == position:\n",
    "            result = result + '3'\n",
    "        \n",
    "        try:\n",
    "            result = result + str_[i]\n",
    "        except:\n",
    "            return result\n",
    "        \n",
    "        i = i + 1"
   ]
  },
  {
   "cell_type": "code",
   "execution_count": 103,
   "metadata": {},
   "outputs": [
    {
     "data": {
      "text/plain": [
       "'808336'"
      ]
     },
     "execution_count": 103,
     "metadata": {},
     "output_type": "execute_result"
    }
   ],
   "source": [
    "generate()"
   ]
  },
  {
   "cell_type": "markdown",
   "metadata": {},
   "source": [
    "# Задача 3\n",
    "Дан список\n",
    "list_01 = [1, 1, 2, 3, 5, 8, 13, 21, 34, 55, 89, 144, 233, 377, 610]\n",
    "Напишите алгоритм, который выводит сумму элементов списка, которые больше\n",
    "10, но меньше 100."
   ]
  },
  {
   "cell_type": "code",
   "execution_count": 104,
   "metadata": {},
   "outputs": [],
   "source": [
    "list_01 = [1, 1, 2, 3, 5, 8, 13, 21, 34, 55, 89, 144, 233, 377, 610]"
   ]
  },
  {
   "cell_type": "code",
   "execution_count": 105,
   "metadata": {},
   "outputs": [
    {
     "data": {
      "text/plain": [
       "212"
      ]
     },
     "execution_count": 105,
     "metadata": {},
     "output_type": "execute_result"
    }
   ],
   "source": [
    "sum([i for i in list_01 if i > 10 and i < 100])"
   ]
  },
  {
   "cell_type": "markdown",
   "metadata": {},
   "source": [
    "# Задача 4\n",
    "Данные студентов представлены в виде списка списков:\n",
    "students = [\n",
    "[\"0001\", \"Антонов\", \"Антон\", \"Игоревич\", \"20.08.2009\",\n",
    "\"БСТ161\"],\n",
    "[\"1102\", \"Богов\", \"Артем\", \"Игоревич\", \"25.01.2010\",\n",
    "\"БСТ162\"],\n",
    "[\"0333\", \"Глаголева\", \"Анастасия\", \"Николаевна\",\n",
    "\"11.07.2009\", \"БСТ163\"],\n",
    "[\"4004\", \"Степанова\", \"Наталья\", \"Александровна\",\n",
    "\"13.02.2008\", \"БСТ161\"],\n",
    "[\"0045\", \"Боков\", \"Игорь\", \"Харитонович\", \"02.06.2009\",\n",
    "\"БСТ161\"],\n",
    "[\"0096\", \"Васильков\", \"Валентин\", \"Сергеевич\", \"20.03.2009\",\n",
    "\"БСТ164\"],\n",
    "[\"0607\", \"Сиропова\", \"Виолетта\", \"Эдуардовна\", \"28.05.2010\",\n",
    "\"БСТ162\"],\n",
    "[\"0309\", \"Шафутинский\", \"Михаил\", \"Михайлович\",\n",
    "\"03.09.2007\", \"БСТ163\"]\n",
    "]"
   ]
  },
  {
   "cell_type": "code",
   "execution_count": 106,
   "metadata": {},
   "outputs": [],
   "source": [
    "students = [\n",
    "    [\"0001\", \"Антонов\", \"Антон\", \"Игоревич\", \"20.08.2009\",\"БСТ161\"],\n",
    "    [\"1102\", \"Богов\", \"Артем\", \"Игоревич\", \"25.01.2010\",\"БСТ162\"],\n",
    "    [\"0333\", \"Глаголева\", \"Анастасия\", \"Николаевна\",\"11.07.2009\", \"БСТ163\"],\n",
    "    [\"4004\", \"Степанова\", \"Наталья\", \"Александровна\",\"13.02.2008\", \"БСТ161\"],\n",
    "    [\"0045\", \"Боков\", \"Игорь\", \"Харитонович\", \"02.06.2009\",\"БСТ161\"],\n",
    "    [\"0096\", \"Васильков\", \"Валентин\", \"Сергеевич\", \"20.03.2009\",\"БСТ164\"],\n",
    "    [\"0607\", \"Сиропова\", \"Виолетта\", \"Эдуардовна\", \"28.05.2010\",\"БСТ162\"],\n",
    "    [\"0309\", \"Шафутинский\", \"Михаил\", \"Михайлович\",\"03.09.2007\", \"БСТ163\"]\n",
    "]"
   ]
  },
  {
   "cell_type": "markdown",
   "metadata": {},
   "source": [
    "* Преобразуйте данные таким образом, чтобы они были представлены в виде словаря, в котором ключами являются номера студентов, а значениями — список из других данных о студентах."
   ]
  },
  {
   "cell_type": "code",
   "execution_count": 107,
   "metadata": {},
   "outputs": [
    {
     "data": {
      "text/plain": [
       "{'0001': ['Антонов', 'Антон', 'Игоревич', '20.08.2009'],\n",
       " '1102': ['Богов', 'Артем', 'Игоревич', '25.01.2010'],\n",
       " '0333': ['Глаголева', 'Анастасия', 'Николаевна', '11.07.2009'],\n",
       " '4004': ['Степанова', 'Наталья', 'Александровна', '13.02.2008'],\n",
       " '0045': ['Боков', 'Игорь', 'Харитонович', '02.06.2009'],\n",
       " '0096': ['Васильков', 'Валентин', 'Сергеевич', '20.03.2009'],\n",
       " '0607': ['Сиропова', 'Виолетта', 'Эдуардовна', '28.05.2010'],\n",
       " '0309': ['Шафутинский', 'Михаил', 'Михайлович', '03.09.2007']}"
      ]
     },
     "execution_count": 107,
     "metadata": {},
     "output_type": "execute_result"
    }
   ],
   "source": [
    "d = {}\n",
    "for st in students:\n",
    "    d[st[0]] = st[1:len(st)-1]\n",
    "\n",
    "d"
   ]
  },
  {
   "cell_type": "markdown",
   "metadata": {},
   "source": [
    "* Напишите функцию, которая принимает в качестве аргумента номер студента и новый номер группы и позволяет изменить номер группы этого студента на новый."
   ]
  },
  {
   "cell_type": "code",
   "execution_count": 108,
   "metadata": {},
   "outputs": [],
   "source": [
    "def change_group(st_num = False, group_num = False):\n",
    "    if not st_num or not group_num:\n",
    "        return\n",
    "    \n",
    "    st_num = str(st_num)\n",
    "    group_num = str(group_num)\n",
    "    \n",
    "    i = 0\n",
    "    while i < len(students):\n",
    "        if students[i][0] == st_num:\n",
    "            students[i].pop()\n",
    "            students[i].append(group_num)\n",
    "            break\n",
    "            \n",
    "        i = i + 1"
   ]
  },
  {
   "cell_type": "code",
   "execution_count": 109,
   "metadata": {},
   "outputs": [
    {
     "data": {
      "text/plain": [
       "[['0001', 'Антонов', 'Антон', 'Игоревич', '20.08.2009', 'БСТ161'],\n",
       " ['1102', 'Богов', 'Артем', 'Игоревич', '25.01.2010', 'БСТ161'],\n",
       " ['0333', 'Глаголева', 'Анастасия', 'Николаевна', '11.07.2009', 'БСТ163'],\n",
       " ['4004', 'Степанова', 'Наталья', 'Александровна', '13.02.2008', 'БСТ161'],\n",
       " ['0045', 'Боков', 'Игорь', 'Харитонович', '02.06.2009', 'БСТ161'],\n",
       " ['0096', 'Васильков', 'Валентин', 'Сергеевич', '20.03.2009', 'БСТ164'],\n",
       " ['0607', 'Сиропова', 'Виолетта', 'Эдуардовна', '28.05.2010', 'БСТ162'],\n",
       " ['0309', 'Шафутинский', 'Михаил', 'Михайлович', '03.09.2007', 'БСТ163']]"
      ]
     },
     "execution_count": 109,
     "metadata": {},
     "output_type": "execute_result"
    }
   ],
   "source": [
    "change_group(1102,'БСТ161')\n",
    "students"
   ]
  },
  {
   "cell_type": "markdown",
   "metadata": {},
   "source": [
    "* Напишите функцию, которая принимает номер группы и выводит список (фамилии, имена, отчества) всех студентов этой группы."
   ]
  },
  {
   "cell_type": "code",
   "execution_count": 110,
   "metadata": {},
   "outputs": [],
   "source": [
    "def view_students_by_group(group):\n",
    "    result = []\n",
    "    group = str(group)\n",
    "    \n",
    "    for st in students:\n",
    "        try:\n",
    "            st.index(group)\n",
    "            result.append(st[1] + ' ' + st[2] + ' ' + st[3])\n",
    "        except:\n",
    "            continue\n",
    "    \n",
    "    return result"
   ]
  },
  {
   "cell_type": "code",
   "execution_count": 111,
   "metadata": {},
   "outputs": [
    {
     "data": {
      "text/plain": [
       "['Антонов Антон Игоревич',\n",
       " 'Богов Артем Игоревич',\n",
       " 'Степанова Наталья Александровна',\n",
       " 'Боков Игорь Харитонович']"
      ]
     },
     "execution_count": 111,
     "metadata": {},
     "output_type": "execute_result"
    }
   ],
   "source": [
    "view_students_by_group('БСТ161')"
   ]
  },
  {
   "cell_type": "markdown",
   "metadata": {},
   "source": [
    "# Задача 5\n",
    "Дана матрица:\n",
    "matrix = [\n",
    "[0, 1, 2, 4, 8],\n",
    "[6, 2, 2, 1, 9],\n",
    "[3, 3, 3, 3, 3],\n",
    "[4, 6, 7, 1, 2],\n",
    "[5, 7, 3, 4, 0]\n",
    "]"
   ]
  },
  {
   "cell_type": "code",
   "execution_count": 112,
   "metadata": {},
   "outputs": [],
   "source": [
    "import numpy as np"
   ]
  },
  {
   "cell_type": "code",
   "execution_count": 113,
   "metadata": {},
   "outputs": [],
   "source": [
    "matrix = [\n",
    "    [0, 1, 2, 4, 8],\n",
    "    [6, 2, 2, 1, 9],\n",
    "    [3, 3, 3, 3, 3],\n",
    "    [4, 6, 7, 1, 2],\n",
    "    [5, 7, 3, 4, 0]]"
   ]
  },
  {
   "cell_type": "markdown",
   "metadata": {},
   "source": [
    "* Выведите результат сложения всех элементов матрицы."
   ]
  },
  {
   "cell_type": "code",
   "execution_count": 114,
   "metadata": {},
   "outputs": [
    {
     "data": {
      "text/plain": [
       "89"
      ]
     },
     "execution_count": 114,
     "metadata": {},
     "output_type": "execute_result"
    }
   ],
   "source": [
    "np.sum(matrix)"
   ]
  },
  {
   "cell_type": "markdown",
   "metadata": {},
   "source": [
    "* Напишите алгоритм вычисления максимума из сумм элементов каждого столбца."
   ]
  },
  {
   "cell_type": "code",
   "execution_count": 115,
   "metadata": {},
   "outputs": [
    {
     "data": {
      "text/plain": [
       "22"
      ]
     },
     "execution_count": 115,
     "metadata": {},
     "output_type": "execute_result"
    }
   ],
   "source": [
    "max([sum(row) for row in list(zip(*matrix))])"
   ]
  }
 ],
 "metadata": {
  "kernelspec": {
   "display_name": "Python 3",
   "language": "python",
   "name": "python3"
  },
  "language_info": {
   "codemirror_mode": {
    "name": "ipython",
    "version": 3
   },
   "file_extension": ".py",
   "mimetype": "text/x-python",
   "name": "python",
   "nbconvert_exporter": "python",
   "pygments_lexer": "ipython3",
   "version": "3.7.3"
  }
 },
 "nbformat": 4,
 "nbformat_minor": 2
}
